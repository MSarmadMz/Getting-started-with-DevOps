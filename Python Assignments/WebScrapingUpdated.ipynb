{
 "cells": [
  {
   "cell_type": "code",
   "execution_count": 1,
   "metadata": {},
   "outputs": [
    {
     "name": "stdout",
     "output_type": "stream",
     "text": [
      "File WEBScrapingUpdated.txt has been created successfully\n"
     ]
    }
   ],
   "source": [
    "import requests\n",
    "import re\n",
    "\n",
    "response = requests.get(\"https://www.unitedsol.net/list-of-top-it-companies-in-pakistan/\")\n",
    "if response.status_code == 200:\n",
    "    html_content = response.text\n",
    "\n",
    "    def remove_css_and_js(text):\n",
    "        css_removed = re.sub(r'<style.*?>.*?</style>', '', text, flags=re.DOTALL)\n",
    "        js_removed = re.sub(r'<script.*?>.*?</script>', '', css_removed, flags=re.DOTALL)\n",
    "        return js_removed\n",
    "\n",
    "    def remove_unwanted_tags(text):\n",
    "        \n",
    "        text = re.sub(r'<(?!/?(?:h1|h2|h3|h4|h5|h6|p|ul|ol|li|b|strong|em|br|img|table|tr|td|th)).*?>', '', text, flags=re.DOTALL)\n",
    "        return text\n",
    "\n",
    "    def clean_and_format_lists(text):\n",
    "    \n",
    "        def format_list_items(list_html):\n",
    "            list_items = re.findall(r'<li.*?>(.*?)</li>', list_html, flags=re.DOTALL)\n",
    "            return '\\n'.join(f\" {item.strip()}\" for item in list_items)\n",
    "            \n",
    "        \n",
    "        ul_items = re.findall(r'<ul.*?>(.*?)</ul>', text, flags=re.DOTALL)\n",
    "        for ul in ul_items:\n",
    "            formatted_ul = format_list_items(ul)\n",
    "            text = text.replace(f'<ul>{ul}</ul>', f'\\n{formatted_ul}\\n')\n",
    "\n",
    "        ol_items = re.findall(r'<ol.*?>(.*?)</ol>', text, flags=re.DOTALL)\n",
    "        for ol in ol_items:\n",
    "            formatted_ol = format_list_items(ol, '')\n",
    "            formatted_ol = '\\n'.join(f\"{i+1}. {item.strip()}\" for i, item in enumerate(formatted_ol.split('\\n')))\n",
    "            text = text.replace(f'<ol>{ol}</ol>', f'\\n{formatted_ol}\\n')\n",
    "        \n",
    "        return text\n",
    "    \n",
    "    def extract_and_format(text):\n",
    "        formatted_text = \"\"\n",
    "\n",
    "        for tag in ['h1', 'h2', 'h3', 'h4', 'h5', 'h6']:\n",
    "            headings = re.findall(rf'<{tag}.*?>(.*?)</{tag}>', text, flags=re.DOTALL)\n",
    "            for heading in headings:\n",
    "                formatted_text += f\"\\n{heading.strip()}\"\n",
    "\n",
    "        paragraphs = re.findall(r'<p.*?>(.*?)</p>', text, flags=re.DOTALL)\n",
    "        for para in paragraphs:\n",
    "            formatted_text += f\"\\n{para.strip()}\\n\"\n",
    "\n",
    "        return formatted_text.strip()\n",
    "\n",
    "    content_without_css_js = remove_css_and_js(html_content)\n",
    "    cleaned_content = remove_unwanted_tags(content_without_css_js)\n",
    "    list_cleaned_content = clean_and_format_lists(cleaned_content)\n",
    "    formatted_text = extract_and_format(list_cleaned_content)\n",
    " \n",
    "    \n",
    "    # print(formatted_text)\n",
    "    file=open(\"WebScrapingUpdated.txt\",\"w\",encoding=\"utf-8\")\n",
    "    file.write(formatted_text)\n",
    "    file.close()\n",
    "    print(\"File WEBScrapingUpdated.txt has been created successfully\")\n",
    "else:\n",
    "    print(\"TRY AGAIN\")    \n"
   ]
  }
 ],
 "metadata": {
  "kernelspec": {
   "display_name": "Python 3",
   "language": "python",
   "name": "python3"
  },
  "language_info": {
   "codemirror_mode": {
    "name": "ipython",
    "version": 3
   },
   "file_extension": ".py",
   "mimetype": "text/x-python",
   "name": "python",
   "nbconvert_exporter": "python",
   "pygments_lexer": "ipython3",
   "version": "3.12.5"
  }
 },
 "nbformat": 4,
 "nbformat_minor": 2
}

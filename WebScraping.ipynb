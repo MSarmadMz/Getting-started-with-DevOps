{
 "cells": [
  {
   "cell_type": "code",
   "execution_count": 1,
   "metadata": {},
   "outputs": [
    {
     "name": "stdout",
     "output_type": "stream",
     "text": [
      "Data Scraped Successfully\n"
     ]
    }
   ],
   "source": [
    "import requests\n",
    "import re\n",
    "\n",
    "response = requests.get(\"https://www.unitedsol.net/list-of-top-it-companies-in-pakistan/\")\n",
    "\n",
    "if response.status_code == 200:\n",
    "    html_content = response.text\n",
    "\n",
    "    def remove_css_and_js(text):\n",
    "\n",
    "        css_removed = re.sub(r'<style.*?>.*?</style>', '', text, flags=re.DOTALL)\n",
    "        js_removed = re.sub(r'<script.*?>.*?</script>', '', css_removed, flags=re.DOTALL)\n",
    "        return js_removed\n",
    "\n",
    "    def remove_html_tags(text):\n",
    "\n",
    "        clean = re.compile('<.*?>')\n",
    "        return re.sub(clean, '', text)\n",
    "\n",
    "    content_without_css_js = remove_css_and_js(html_content)\n",
    "    \n",
    "    text = remove_html_tags(content_without_css_js)\n",
    "\n",
    "    cleaned_text = ' '.join(text.split())\n",
    "\n",
    "    #print(cleaned_text)\n",
    "    \n",
    "    file=open(\"WebScrapingOutput.txt\",\"w\",encoding=\"utf-8\")\n",
    "    file.write(cleaned_text)\n",
    "    file.close()\n",
    "    print(\"Data Scraped Successfully\")\n",
    "else:\n",
    "    print(\"TRY TRY AGAIN\")\n"
   ]
  }
 ],
 "metadata": {
  "kernelspec": {
   "display_name": "Python 3",
   "language": "python",
   "name": "python3"
  },
  "language_info": {
   "codemirror_mode": {
    "name": "ipython",
    "version": 3
   },
   "file_extension": ".py",
   "mimetype": "text/x-python",
   "name": "python",
   "nbconvert_exporter": "python",
   "pygments_lexer": "ipython3",
   "version": "3.12.5"
  }
 },
 "nbformat": 4,
 "nbformat_minor": 2
}
